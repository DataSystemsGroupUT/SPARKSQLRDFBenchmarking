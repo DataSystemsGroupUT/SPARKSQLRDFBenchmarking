{
 "cells": [
  {
   "cell_type": "markdown",
   "metadata": {},
   "source": [
    "<h3> Average query results and save to the excel file </h3>\n",
    "\n",
    "1. The experiment results are in the folder like 100M-Horizontal, 100M-Predicate, 100M-Subject and so on.\n",
    "2. Insert the parent folder's path (logs) in the code and run\n",
    "3. The averaged results is saved in the \"average_of_results\" excel file.\n",
    "4. The data in the \"average_of_results\" are in the same order as they are in the \"logs\" folder\n",
    "5. The tables are created for each configuration in 'Rank tables and Rank scores' excel file, and the results from \"average_of_results\" are copied to the according table in 'Rank tables and Rank scores'"
   ]
  },
  {
   "cell_type": "code",
   "execution_count": 1,
   "metadata": {},
   "outputs": [],
   "source": [
    "import matplotlib\n",
    "import matplotlib.pyplot as plt\n",
    "import numpy as np\n",
    "import pandas as pd\n",
    "import os\n",
    "\n",
    "#parent folder of results\n",
    "path = 'C:\\\\Users\\\\Sadiq\\\\Desktop\\\\\\sp2benchData\\\\z'\n",
    "\n",
    "all_data, dirs_list = ([] for i in range(2))    \n",
    "def read_files(path):\n",
    "    \n",
    "    #iterate on given path and read files\n",
    "    for subdir, dirs, files in os.walk(path):        \n",
    "        dirs_list.append(dirs)\n",
    "        \n",
    "        for file in files:\n",
    "            #full path of the file\n",
    "            filepath = subdir + os.sep + file\n",
    "            #read and average the data         \n",
    "            all_data.append(pd.read_csv(filepath, header = None).mean().values.tolist())             \n",
    "read_files(path)\n",
    "\n",
    "#transpose the result and save in excel file\n",
    "df_transposed = pd.DataFrame(all_data).transpose() \n",
    "df_transposed.to_excel(\"C:\\\\Users\\\\Sadiq\\\\Desktop\\\\average_of_results.xlsx\")"
   ]
  }
 ],
 "metadata": {
  "kernelspec": {
   "display_name": "Python 3",
   "language": "python",
   "name": "python3"
  },
  "language_info": {
   "codemirror_mode": {
    "name": "ipython",
    "version": 3
   },
   "file_extension": ".py",
   "mimetype": "text/x-python",
   "name": "python",
   "nbconvert_exporter": "python",
   "pygments_lexer": "ipython3",
   "version": "3.7.3"
  }
 },
 "nbformat": 4,
 "nbformat_minor": 2
}
